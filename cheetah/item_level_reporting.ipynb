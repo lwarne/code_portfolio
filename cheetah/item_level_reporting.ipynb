{
 "cells": [
  {
   "cell_type": "markdown",
   "metadata": {},
   "source": [
    "# Reporting At Item Level, Multiple time cuts"
   ]
  },
  {
   "cell_type": "code",
   "execution_count": 1,
   "metadata": {},
   "outputs": [],
   "source": [
    "#base imports\n",
    "import sys\n",
    "import os\n",
    "from pathlib import Path\n",
    "import pandas as pd\n",
    "import warnings\n",
    "import itertools\n",
    "import numpy as np\n",
    "import datetime as dt\n",
    "\n",
    "#time series imports\n",
    "import statsmodels.api as sm\n",
    "from pylab import rcParams\n",
    "import matplotlib.pyplot as plt\n",
    "plt.style.use('fivethirtyeight')\n",
    "\n",
    "#typeing\n",
    "from typing import Mapping, Set, Sequence, Tuple, TypeVar, List, Generic, Dict, Any\n",
    "\n",
    "#tester\n",
    "from TS_ttester import TS_ttester\n",
    "\n",
    "# converters \n",
    "from pandas.plotting import register_matplotlib_converters\n",
    "register_matplotlib_converters()\n",
    "\n",
    "#Thin Database\n",
    "from thin_db import ThinDB\n",
    "os.environ['DATA_DIR'] = str(Path('./datadir'))\n",
    "os.environ['DB_CREDS'] = \"config.json\""
   ]
  },
  {
   "cell_type": "code",
   "execution_count": 2,
   "metadata": {},
   "outputs": [],
   "source": [
    "# Set up tdb\n",
    "tdb = ThinDB()\n",
    "#import and run item info queries\n",
    "cache_set = False"
   ]
  },
  {
   "cell_type": "code",
   "execution_count": 3,
   "metadata": {},
   "outputs": [],
   "source": [
    "#register converters?\n",
    "from pandas.plotting import register_matplotlib_converters\n",
    "register_matplotlib_converters()"
   ]
  },
  {
   "cell_type": "markdown",
   "metadata": {},
   "source": [
    "# Query For Cases"
   ]
  },
  {
   "cell_type": "code",
   "execution_count": 4,
   "metadata": {},
   "outputs": [
    {
     "name": "stdout",
     "output_type": "stream",
     "text": [
      "Attempting to fetch fresh data from DB...\n",
      "Query finished, saving to cache\n"
     ]
    }
   ],
   "source": [
    "case_query = Path('./query/v3_items_withdr_cases_10-11.sql').read_text()\n",
    "df_cases = tdb.fetch(case_query, cache = cache_set)"
   ]
  },
  {
   "cell_type": "code",
   "execution_count": 5,
   "metadata": {},
   "outputs": [],
   "source": [
    "# pivot data\n",
    "cases_pivot = df_cases.pivot(\n",
    "                    index = 'delivery_date', \n",
    "                    columns = 'last_sku', \n",
    "                    values = 'cases_sold'\n",
    "                    )"
   ]
  },
  {
   "cell_type": "code",
   "execution_count": 6,
   "metadata": {},
   "outputs": [],
   "source": [
    "#get go live date\n",
    "go_live_date = df_cases[['last_sku','golive_min']].drop_duplicates(\n",
    "                        subset = ['last_sku','golive_min'], keep = 'first')\n",
    "go_live_date.reset_index(inplace = True, drop = True)\n",
    "#change to datetime\n",
    "go_live_date['golive_min'] = go_live_date['golive_min'].apply( lambda x: dt.datetime.strptime(x, '%m/%d/%Y'))"
   ]
  },
  {
   "cell_type": "code",
   "execution_count": 7,
   "metadata": {},
   "outputs": [
    {
     "name": "stdout",
     "output_type": "stream",
     "text": [
      "  golive_min\n",
      "0 2020-09-14\n",
      "1 2020-09-21\n",
      "2 2020-08-29\n",
      "3 2020-09-28\n",
      "4 2020-09-04\n"
     ]
    }
   ],
   "source": [
    "#inspect dates\n",
    "date_list = go_live_date[['golive_min']].drop_duplicates(keep = 'first').reset_index(drop = True)\n",
    "print(date_list)"
   ]
  },
  {
   "cell_type": "markdown",
   "metadata": {},
   "source": [
    "# Prep and feed data into testers"
   ]
  },
  {
   "cell_type": "code",
   "execution_count": 8,
   "metadata": {},
   "outputs": [
    {
     "name": "stdout",
     "output_type": "stream",
     "text": [
      "2020-09-14 00:00:00\n",
      "265\n",
      "2020-09-21 00:00:00\n",
      "125\n",
      "2020-08-29 00:00:00\n",
      "93\n",
      "2020-09-28 00:00:00\n",
      "35\n",
      "2020-09-04 00:00:00\n",
      "13\n"
     ]
    }
   ],
   "source": [
    "#check how many in each date group\n",
    "for d in date_list['golive_min']:\n",
    "    print(d)\n",
    "    print( len( go_live_date.loc[ go_live_date['golive_min'] == d] ) )"
   ]
  },
  {
   "cell_type": "code",
   "execution_count": 9,
   "metadata": {},
   "outputs": [
    {
     "name": "stdout",
     "output_type": "stream",
     "text": [
      "2020-09-14 00:00:00\n",
      "31\n"
     ]
    },
    {
     "name": "stderr",
     "output_type": "stream",
     "text": [
      "/Users/lewis.warne/.local/share/virtualenvs/data_science-17gAGHGO/lib/python3.6/site-packages/statsmodels/stats/weightstats.py:617: RuntimeWarning: invalid value encountered in double_scalars\n",
      "  tstat = (value1 - value2 - diff) / std_diff\n",
      "/Users/lewis.warne/ws/data_science/src/research/lewis/TS_ttester.py:67: RuntimeWarning: invalid value encountered in double_scalars\n",
      "  scaled_change_in_mean = change_in_mean / pooled_std\n"
     ]
    },
    {
     "name": "stdout",
     "output_type": "stream",
     "text": [
      "2020-09-21 00:00:00\n",
      "24\n",
      "2020-08-29 00:00:00\n",
      "47\n",
      "2020-09-28 00:00:00\n",
      "17\n",
      "2020-09-04 00:00:00\n",
      "41\n"
     ]
    }
   ],
   "source": [
    "#set up list to store dictionary results\n",
    "result_list = list()\n",
    "\n",
    "#loop through different date tranches\n",
    "for d in date_list['golive_min']:\n",
    "    \n",
    "    #what day are we dealing with\n",
    "    print(d)\n",
    "    \n",
    "    #choose number of obs\n",
    "    look = (dt.date.today() - d.date()).days\n",
    "    print(look)\n",
    "    \n",
    "    #redefine tester with that info\n",
    "    tester = TS_ttester( \n",
    "                treatment_date = d,\n",
    "                look_back = max(19,look),\n",
    "                look_forward = look\n",
    "                )\n",
    "    \n",
    "#     #redefine tester with that info\n",
    "#     tester = TS_ttester( \n",
    "#                 treatment_date = d,\n",
    "#                 look_back = 19,\n",
    "#                 look_forward = 18\n",
    "#                 )\n",
    "    \n",
    "    #get the sku list\n",
    "    sku_list = go_live_date.loc[ go_live_date['golive_min'] == d]['last_sku']\n",
    "    \n",
    "    #loop through each sku\n",
    "    for sku in sku_list:\n",
    "        \n",
    "        #clean the series\n",
    "        demand_series = cases_pivot[ sku ].asfreq( pd.tseries.offsets.CustomBusinessDay( \n",
    "            weekmask = \"Mon Tue Wed Thu Fri Sat\")).fillna(0)\n",
    "                \n",
    "        #pass into tester\n",
    "        results, left, right = tester.t_test(demand_series)\n",
    "        \n",
    "        #add sku, and experiment date to results\n",
    "        results['sku'] = sku\n",
    "        results['golive'] = d\n",
    "        \n",
    "        #add results to list\n",
    "        result_list.append(results)\n",
    "        "
   ]
  },
  {
   "cell_type": "markdown",
   "metadata": {},
   "source": [
    "# Export Data"
   ]
  },
  {
   "cell_type": "code",
   "execution_count": 10,
   "metadata": {},
   "outputs": [
    {
     "data": {
      "text/html": [
       "<div>\n",
       "<style scoped>\n",
       "    .dataframe tbody tr th:only-of-type {\n",
       "        vertical-align: middle;\n",
       "    }\n",
       "\n",
       "    .dataframe tbody tr th {\n",
       "        vertical-align: top;\n",
       "    }\n",
       "\n",
       "    .dataframe thead th {\n",
       "        text-align: right;\n",
       "    }\n",
       "</style>\n",
       "<table border=\"1\" class=\"dataframe\">\n",
       "  <thead>\n",
       "    <tr style=\"text-align: right;\">\n",
       "      <th></th>\n",
       "      <th>tstat</th>\n",
       "      <th>pval</th>\n",
       "      <th>df</th>\n",
       "      <th>mean_diff</th>\n",
       "      <th>pooled_std</th>\n",
       "      <th>scaled_mean_diff</th>\n",
       "      <th>left_mean</th>\n",
       "      <th>right_mean</th>\n",
       "      <th>sku</th>\n",
       "      <th>golive</th>\n",
       "    </tr>\n",
       "  </thead>\n",
       "  <tbody>\n",
       "    <tr>\n",
       "      <th>0</th>\n",
       "      <td>1.469199</td>\n",
       "      <td>0.147690</td>\n",
       "      <td>53.0</td>\n",
       "      <td>-0.074074</td>\n",
       "      <td>0.186924</td>\n",
       "      <td>-0.396279</td>\n",
       "      <td>0.074074</td>\n",
       "      <td>0.000000</td>\n",
       "      <td>100036</td>\n",
       "      <td>2020-09-14</td>\n",
       "    </tr>\n",
       "    <tr>\n",
       "      <th>1</th>\n",
       "      <td>-2.005726</td>\n",
       "      <td>0.050002</td>\n",
       "      <td>53.0</td>\n",
       "      <td>0.212963</td>\n",
       "      <td>0.393652</td>\n",
       "      <td>0.540994</td>\n",
       "      <td>0.037037</td>\n",
       "      <td>0.250000</td>\n",
       "      <td>100060</td>\n",
       "      <td>2020-09-14</td>\n",
       "    </tr>\n",
       "    <tr>\n",
       "      <th>2</th>\n",
       "      <td>0.389216</td>\n",
       "      <td>0.698676</td>\n",
       "      <td>53.0</td>\n",
       "      <td>-0.041005</td>\n",
       "      <td>0.390597</td>\n",
       "      <td>-0.104981</td>\n",
       "      <td>0.148148</td>\n",
       "      <td>0.107143</td>\n",
       "      <td>100089</td>\n",
       "      <td>2020-09-14</td>\n",
       "    </tr>\n",
       "    <tr>\n",
       "      <th>3</th>\n",
       "      <td>1.674308</td>\n",
       "      <td>0.099962</td>\n",
       "      <td>53.0</td>\n",
       "      <td>-0.190476</td>\n",
       "      <td>0.421779</td>\n",
       "      <td>-0.451602</td>\n",
       "      <td>0.333333</td>\n",
       "      <td>0.142857</td>\n",
       "      <td>100094</td>\n",
       "      <td>2020-09-14</td>\n",
       "    </tr>\n",
       "    <tr>\n",
       "      <th>4</th>\n",
       "      <td>-0.191525</td>\n",
       "      <td>0.848846</td>\n",
       "      <td>53.0</td>\n",
       "      <td>0.052910</td>\n",
       "      <td>1.024215</td>\n",
       "      <td>0.051659</td>\n",
       "      <td>0.518519</td>\n",
       "      <td>0.571429</td>\n",
       "      <td>100281</td>\n",
       "      <td>2020-09-14</td>\n",
       "    </tr>\n",
       "  </tbody>\n",
       "</table>\n",
       "</div>"
      ],
      "text/plain": [
       "      tstat      pval    df  mean_diff  pooled_std  scaled_mean_diff  \\\n",
       "0  1.469199  0.147690  53.0  -0.074074    0.186924         -0.396279   \n",
       "1 -2.005726  0.050002  53.0   0.212963    0.393652          0.540994   \n",
       "2  0.389216  0.698676  53.0  -0.041005    0.390597         -0.104981   \n",
       "3  1.674308  0.099962  53.0  -0.190476    0.421779         -0.451602   \n",
       "4 -0.191525  0.848846  53.0   0.052910    1.024215          0.051659   \n",
       "\n",
       "   left_mean  right_mean     sku     golive  \n",
       "0   0.074074    0.000000  100036 2020-09-14  \n",
       "1   0.037037    0.250000  100060 2020-09-14  \n",
       "2   0.148148    0.107143  100089 2020-09-14  \n",
       "3   0.333333    0.142857  100094 2020-09-14  \n",
       "4   0.518519    0.571429  100281 2020-09-14  "
      ]
     },
     "execution_count": 10,
     "metadata": {},
     "output_type": "execute_result"
    }
   ],
   "source": [
    "df = pd.DataFrame.from_records(result_list)\n",
    "df.head()"
   ]
  },
  {
   "cell_type": "code",
   "execution_count": 11,
   "metadata": {},
   "outputs": [],
   "source": [
    "df.to_csv('./csv_exports/item_level_cases_10-15.csv')"
   ]
  },
  {
   "cell_type": "markdown",
   "metadata": {},
   "source": [
    "# show charts"
   ]
  },
  {
   "cell_type": "code",
   "execution_count": null,
   "metadata": {
    "scrolled": false
   },
   "outputs": [],
   "source": [
    "#loop through different date tranches\n",
    "for d in date_list['golive_min']:\n",
    "    fig, ax1 = plt.subplots(figsize=(15, 6))\n",
    "    n, bins, patches = plt.hist( df.loc[ df['golive'] == d]['scaled_mean_diff']\n",
    "                , bins = 40\n",
    "            )\n",
    "    plt.xlabel(\"Scaled Difference in Mean\")\n",
    "    plt.ylabel(\"Number of SKUs\")\n",
    "    plt.title(\"Change in Demand {} product set\".format(d.date()))"
   ]
  },
  {
   "cell_type": "code",
   "execution_count": 134,
   "metadata": {},
   "outputs": [
    {
     "data": {
      "text/plain": [
       "<matplotlib.lines.Line2D at 0x12f8866a0>"
      ]
     },
     "execution_count": 134,
     "metadata": {},
     "output_type": "execute_result"
    },
    {
     "data": {
      "image/png": "[encoded data removed]",
      "text/plain": [
       "<Figure size 360x432 with 1 Axes>"
      ]
     },
     "metadata": {
      "needs_background": "light"
     },
     "output_type": "display_data"
    }
   ],
   "source": [
    "#all in one date tranch\n",
    "fig, ax1 = plt.subplots(figsize=(5, 6))\n",
    "n, bins, patches = plt.hist( df['scaled_mean_diff']\n",
    "        , bins = 40\n",
    "    )\n",
    "plt.xlabel(\"Standard deviations change\")\n",
    "plt.ylabel(\"Number of SKUs\")\n",
    "plt.title(\"Change in Demand, all products\".format(d.date()))\n",
    "plt.axvline(0, alpha = .5, color = 'orange')"
   ]
  },
  {
   "cell_type": "markdown",
   "metadata": {},
   "source": [
    "# item level demand chart (on demand)"
   ]
  },
  {
   "cell_type": "code",
   "execution_count": 35,
   "metadata": {},
   "outputs": [
    {
     "data": {
      "image/png": "[encoded data removed]",
      "text/plain": [
       "<Figure size 1080x216 with 1 Axes>"
      ]
     },
     "metadata": {
      "needs_background": "light"
     },
     "output_type": "display_data"
    }
   ],
   "source": [
    "check = [103717]\n",
    "\n",
    "#plot for all \n",
    "for int_sku in check:\n",
    "    \n",
    "    # clean the data and convert it to time series\n",
    "    s_sku = str(int_sku)\n",
    "    demand_series = cases_pivot[ s_sku ].asfreq( pd.tseries.offsets.CustomBusinessDay( \n",
    "        weekmask = \"Mon Tue Wed Thu Fri Sat\")).fillna(0)\n",
    "    \n",
    "    #plot data \n",
    "    fig, ax1 = plt.subplots(figsize=(15, 3))\n",
    "    plt.xticks(rotation=70)\n",
    "    ax1.set_title( '{}: Daily Demand'.format(s_sku) )\n",
    "    ax1.set_xlabel('Date')\n",
    "    ax1.set_ylabel('Cases Sold')\n",
    "    ax1.plot(demand_series,label = 'cases_sold', ls = '', marker = 'o', markersize=4)\n",
    "    ax1.set_xlim(left = dt.datetime(2020, 5, 15), right = dt.date.today() + dt.timedelta(days=1) )\n",
    "#     ax1.set_ylim(top = 40 )\n",
    "    #add line a change date for visuals\n",
    "    plt.axvline(go_live_date[go_live_date['last_sku'] == s_sku]['golive_min'], alpha = .5, color = 'red')\n",
    "#     plt.axvline(go_live_date[go_live_date['last_sku'] == s_sku]['golive_min'], alpha = .5, color = 'blue')\n",
    "\n",
    "    plt.show()"
   ]
  },
  {
   "cell_type": "markdown",
   "metadata": {},
   "source": [
    "# Use extended data for applicable skus\n"
   ]
  },
  {
   "cell_type": "code",
   "execution_count": 73,
   "metadata": {},
   "outputs": [],
   "source": [
    "target_list = [101380, 103599, 110773, 103477, 108728]"
   ]
  },
  {
   "cell_type": "code",
   "execution_count": 121,
   "metadata": {},
   "outputs": [
    {
     "name": "stdout",
     "output_type": "stream",
     "text": [
      "2020-08-29 00:00:00\n",
      "2020-08-29 00:00:00\n",
      "2020-08-29 00:00:00\n",
      "2020-09-28 00:00:00\n",
      "2020-09-28 00:00:00\n"
     ]
    }
   ],
   "source": [
    "short_list = list()\n",
    "\n",
    "#loop through each sku\n",
    "for sku in target_list:\n",
    "    \n",
    "    sku = str(sku)\n",
    "    \n",
    "    a = go_live_date.loc[ go_live_date['last_sku'] == sku]['golive_min']\n",
    "    a.reset_index(inplace = True, drop = True)\n",
    "    a[0]\n",
    "    \n",
    "    d = a[0]\n",
    "    \n",
    "    print(d)\n",
    "    \n",
    "    #choose number of obs\n",
    "    look = (dt.date.today() - pd.to_datetime(d).date()).days\n",
    "    \n",
    "    #redefine tester with that info\n",
    "    tester = TS_ttester( \n",
    "                treatment_date = d,\n",
    "                look_back = max(19,look),\n",
    "                look_forward = look\n",
    "                )\n",
    "\n",
    "    #clean the series\n",
    "    demand_series = cases_pivot[ sku ].asfreq( pd.tseries.offsets.CustomBusinessDay( \n",
    "        weekmask = \"Mon Tue Wed Thu Fri Sat\")).fillna(0)\n",
    "\n",
    "    #pass into tester\n",
    "    results, left, right = tester.t_test(demand_series)\n",
    "\n",
    "    #add sku, and experiment date to results\n",
    "    results['sku'] = sku\n",
    "    results['golive'] = d\n",
    "\n",
    "    #add results to list\n",
    "    short_list.append(results)"
   ]
  },
  {
   "cell_type": "code",
   "execution_count": 122,
   "metadata": {},
   "outputs": [
    {
     "data": {
      "text/html": [
       "<div>\n",
       "<style scoped>\n",
       "    .dataframe tbody tr th:only-of-type {\n",
       "        vertical-align: middle;\n",
       "    }\n",
       "\n",
       "    .dataframe tbody tr th {\n",
       "        vertical-align: top;\n",
       "    }\n",
       "\n",
       "    .dataframe thead th {\n",
       "        text-align: right;\n",
       "    }\n",
       "</style>\n",
       "<table border=\"1\" class=\"dataframe\">\n",
       "  <thead>\n",
       "    <tr style=\"text-align: right;\">\n",
       "      <th></th>\n",
       "      <th>tstat</th>\n",
       "      <th>pval</th>\n",
       "      <th>df</th>\n",
       "      <th>mean_diff</th>\n",
       "      <th>pooled_std</th>\n",
       "      <th>scaled_mean_diff</th>\n",
       "      <th>left_mean</th>\n",
       "      <th>right_mean</th>\n",
       "      <th>sku</th>\n",
       "      <th>golive</th>\n",
       "    </tr>\n",
       "  </thead>\n",
       "  <tbody>\n",
       "    <tr>\n",
       "      <th>0</th>\n",
       "      <td>-2.441167</td>\n",
       "      <td>0.016999</td>\n",
       "      <td>75.0</td>\n",
       "      <td>2.787112</td>\n",
       "      <td>5.008822</td>\n",
       "      <td>0.556441</td>\n",
       "      <td>12.410256</td>\n",
       "      <td>15.197368</td>\n",
       "      <td>101380</td>\n",
       "      <td>2020-08-29</td>\n",
       "    </tr>\n",
       "    <tr>\n",
       "      <th>1</th>\n",
       "      <td>-0.111404</td>\n",
       "      <td>0.911594</td>\n",
       "      <td>75.0</td>\n",
       "      <td>0.007169</td>\n",
       "      <td>0.282331</td>\n",
       "      <td>0.025393</td>\n",
       "      <td>0.147436</td>\n",
       "      <td>0.154605</td>\n",
       "      <td>103599</td>\n",
       "      <td>2020-08-29</td>\n",
       "    </tr>\n",
       "    <tr>\n",
       "      <th>2</th>\n",
       "      <td>-2.032924</td>\n",
       "      <td>0.045600</td>\n",
       "      <td>75.0</td>\n",
       "      <td>6.514170</td>\n",
       "      <td>14.057779</td>\n",
       "      <td>0.463385</td>\n",
       "      <td>17.538462</td>\n",
       "      <td>24.052632</td>\n",
       "      <td>110773</td>\n",
       "      <td>2020-08-29</td>\n",
       "    </tr>\n",
       "    <tr>\n",
       "      <th>3</th>\n",
       "      <td>-2.747282</td>\n",
       "      <td>0.010390</td>\n",
       "      <td>28.0</td>\n",
       "      <td>0.909502</td>\n",
       "      <td>0.898537</td>\n",
       "      <td>1.012203</td>\n",
       "      <td>0.205882</td>\n",
       "      <td>1.115385</td>\n",
       "      <td>103477</td>\n",
       "      <td>2020-09-28</td>\n",
       "    </tr>\n",
       "    <tr>\n",
       "      <th>4</th>\n",
       "      <td>-2.542053</td>\n",
       "      <td>0.016838</td>\n",
       "      <td>28.0</td>\n",
       "      <td>2.443439</td>\n",
       "      <td>2.608870</td>\n",
       "      <td>0.936589</td>\n",
       "      <td>4.274510</td>\n",
       "      <td>6.717949</td>\n",
       "      <td>108728</td>\n",
       "      <td>2020-09-28</td>\n",
       "    </tr>\n",
       "  </tbody>\n",
       "</table>\n",
       "</div>"
      ],
      "text/plain": [
       "      tstat      pval    df  mean_diff  pooled_std  scaled_mean_diff  \\\n",
       "0 -2.441167  0.016999  75.0   2.787112    5.008822          0.556441   \n",
       "1 -0.111404  0.911594  75.0   0.007169    0.282331          0.025393   \n",
       "2 -2.032924  0.045600  75.0   6.514170   14.057779          0.463385   \n",
       "3 -2.747282  0.010390  28.0   0.909502    0.898537          1.012203   \n",
       "4 -2.542053  0.016838  28.0   2.443439    2.608870          0.936589   \n",
       "\n",
       "   left_mean  right_mean     sku     golive  \n",
       "0  12.410256   15.197368  101380 2020-08-29  \n",
       "1   0.147436    0.154605  103599 2020-08-29  \n",
       "2  17.538462   24.052632  110773 2020-08-29  \n",
       "3   0.205882    1.115385  103477 2020-09-28  \n",
       "4   4.274510    6.717949  108728 2020-09-28  "
      ]
     },
     "execution_count": 122,
     "metadata": {},
     "output_type": "execute_result"
    }
   ],
   "source": [
    "df_short = pd.DataFrame.from_records(short_list)\n",
    "df_short.head()"
   ]
  },
  {
   "cell_type": "code",
   "execution_count": 80,
   "metadata": {},
   "outputs": [
    {
     "data": {
      "text/html": [
       "<div>\n",
       "<style scoped>\n",
       "    .dataframe tbody tr th:only-of-type {\n",
       "        vertical-align: middle;\n",
       "    }\n",
       "\n",
       "    .dataframe tbody tr th {\n",
       "        vertical-align: top;\n",
       "    }\n",
       "\n",
       "    .dataframe thead th {\n",
       "        text-align: right;\n",
       "    }\n",
       "</style>\n",
       "<table border=\"1\" class=\"dataframe\">\n",
       "  <thead>\n",
       "    <tr style=\"text-align: right;\">\n",
       "      <th></th>\n",
       "      <th>last_sku</th>\n",
       "      <th>golive_min</th>\n",
       "    </tr>\n",
       "  </thead>\n",
       "  <tbody>\n",
       "    <tr>\n",
       "      <th>0</th>\n",
       "      <td>100036</td>\n",
       "      <td>2020-09-14</td>\n",
       "    </tr>\n",
       "    <tr>\n",
       "      <th>1</th>\n",
       "      <td>100056</td>\n",
       "      <td>2020-09-21</td>\n",
       "    </tr>\n",
       "    <tr>\n",
       "      <th>2</th>\n",
       "      <td>100060</td>\n",
       "      <td>2020-09-14</td>\n",
       "    </tr>\n",
       "    <tr>\n",
       "      <th>3</th>\n",
       "      <td>100089</td>\n",
       "      <td>2020-09-14</td>\n",
       "    </tr>\n",
       "    <tr>\n",
       "      <th>4</th>\n",
       "      <td>100090</td>\n",
       "      <td>2020-09-21</td>\n",
       "    </tr>\n",
       "  </tbody>\n",
       "</table>\n",
       "</div>"
      ],
      "text/plain": [
       "  last_sku golive_min\n",
       "0   100036 2020-09-14\n",
       "1   100056 2020-09-21\n",
       "2   100060 2020-09-14\n",
       "3   100089 2020-09-14\n",
       "4   100090 2020-09-21"
      ]
     },
     "execution_count": 80,
     "metadata": {},
     "output_type": "execute_result"
    }
   ],
   "source": [
    "go_live_date.head()"
   ]
  },
  {
   "cell_type": "code",
   "execution_count": 119,
   "metadata": {},
   "outputs": [
    {
     "data": {
      "text/plain": [
       "Timestamp('2020-08-29 00:00:00')"
      ]
     },
     "execution_count": 119,
     "metadata": {},
     "output_type": "execute_result"
    }
   ],
   "source": [
    "a = go_live_date.loc[ go_live_date['last_sku'] == '101380']['golive_min']\n",
    "a.reset_index(inplace = True, drop = True)\n",
    "a[0]"
   ]
  }
 ],
 "metadata": {
  "kernelspec": {
   "display_name": "Python 3",
   "language": "python",
   "name": "python3"
  },
  "language_info": {
   "codemirror_mode": {
    "name": "ipython",
    "version": 3
   },
   "file_extension": ".py",
   "mimetype": "text/x-python",
   "name": "python",
   "nbconvert_exporter": "python",
   "pygments_lexer": "ipython3",
   "version": "3.6.8"
  }
 },
 "nbformat": 4,
 "nbformat_minor": 2
}

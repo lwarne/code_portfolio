{
 "cells": [
  {
   "cell_type": "markdown",
   "metadata": {},
   "source": [
    "## Ingesting Spotify Data\n",
    "\n",
    "This is an exploratory notebook working with json files"
   ]
  },
  {
   "cell_type": "markdown",
   "metadata": {},
   "source": [
    "The first step is importing the data\n",
    "resources:\n",
    "https://docs.python.org/3/library/json.html"
   ]
  },
  {
   "cell_type": "code",
   "execution_count": 8,
   "metadata": {},
   "outputs": [],
   "source": [
    "import json\n",
    "from pathlib import Path"
   ]
  },
  {
   "cell_type": "code",
   "execution_count": 19,
   "metadata": {},
   "outputs": [],
   "source": [
    "g1path = Path(\"genres1.json\")\n",
    "g1 = json.loads( open(g1path).read() )"
   ]
  },
  {
   "cell_type": "code",
   "execution_count": 28,
   "metadata": {},
   "outputs": [
    {
     "name": "stdout",
     "output_type": "stream",
     "text": [
      "<class 'list'>\n",
      "<class 'dict'>\n",
      "number of songs: 2950\n",
      "dict_keys(['key', 'id', 'time', 'artist', 'album', 'genres'])\n"
     ]
    }
   ],
   "source": [
    "#explore output\n",
    "print(type(g1)) #its a list\n",
    "print(type(g1[0])) #of dictionaries\n",
    "print( \"number of songs:\", len(g1) ) \n",
    "print(g1[0].keys()) #with these keys"
   ]
  },
  {
   "cell_type": "code",
   "execution_count": 32,
   "metadata": {},
   "outputs": [
    {
     "name": "stdout",
     "output_type": "stream",
     "text": [
      "key  :  1\n",
      "id  :  337H7R2AWIlI9s7M4ugelQ\n",
      "time  :  2020-07-10T18:35:44Z\n",
      "artist  :  4tF39UYlbBLqTo5JK3qX1u\n",
      "album  :  6bauY7PwZaNP7NoXczbKBl\n",
      "genres  :  ['glitchcore']\n"
     ]
    }
   ],
   "source": [
    "#whats in a song?\n",
    "for k,v in g1[0].items():\n",
    "    print(k, \" : \", v)"
   ]
  },
  {
   "cell_type": "markdown",
   "metadata": {},
   "source": [
    "## Counting Genres\n",
    "First step is to count the genres and plot summary stats\n",
    "\n",
    "First question: How many songs are in each genre?\n",
    "\n",
    "Method:\n",
    "for each song,\n",
    "    for each genre,\n",
    "        add or increment dictionary\n",
    "        \n",
    "Sort\n",
    "Plot has histogram"
   ]
  },
  {
   "cell_type": "code",
   "execution_count": 36,
   "metadata": {},
   "outputs": [],
   "source": [
    "from collections import OrderedDict\n",
    "import "
   ]
  },
  {
   "cell_type": "code",
   "execution_count": 33,
   "metadata": {},
   "outputs": [],
   "source": [
    "gdict = dict()"
   ]
  },
  {
   "cell_type": "code",
   "execution_count": 34,
   "metadata": {},
   "outputs": [],
   "source": [
    "for song in g1:\n",
    "    for genre in song['genres']:\n",
    "        if genre in gdict:\n",
    "            gdict[genre] += 1\n",
    "        else:\n",
    "            gdict[genre] = 1"
   ]
  },
  {
   "cell_type": "code",
   "execution_count": 40,
   "metadata": {},
   "outputs": [],
   "source": [
    "sorted_gdict = OrderedDict(sorted( gdict.items(), key = lambda x: x[1], reverse = True ))"
   ]
  },
  {
   "cell_type": "code",
   "execution_count": 45,
   "metadata": {},
   "outputs": [
    {
     "name": "stdout",
     "output_type": "stream",
     "text": [
      "indie rock : 659\n",
      "indie pop : 622\n",
      "rock : 578\n",
      "modern rock : 505\n",
      "art pop : 460\n",
      "alternative rock : 460\n",
      "permanent wave : 292\n",
      "freak folk : 279\n",
      "art rock : 234\n",
      "escape room : 206\n"
     ]
    }
   ],
   "source": [
    "#print top 10\n",
    "top = 10\n",
    "for k in list(sorted_gdict.keys())[:top]:\n",
    "    print(k, \":\", sorted_gdict[k])"
   ]
  },
  {
   "cell_type": "markdown",
   "metadata": {},
   "source": [
    "## Ploting the distribution\n",
    "\n",
    "I'll start with the histogram\n",
    "\n",
    "Consideration, adjust by the number of songs?"
   ]
  },
  {
   "cell_type": "code",
   "execution_count": 80,
   "metadata": {},
   "outputs": [],
   "source": [
    "import matplotlib.pyplot as plt\n",
    "import seaborn as sns"
   ]
  },
  {
   "cell_type": "code",
   "execution_count": 67,
   "metadata": {},
   "outputs": [],
   "source": [
    "# get number of songs\n",
    "num_songs = len(g1)\n",
    "#extract count from dictionary\n",
    "counts = list( sorted_gdict.values() )\n",
    "percents = [ c / num_songs for c in counts]"
   ]
  },
  {
   "cell_type": "code",
   "execution_count": 68,
   "metadata": {},
   "outputs": [
    {
     "data": {
      "image/png": "[encoded data removed]",
      "text/plain": [
       "<matplotlib.figure.Figure at 0x7fb688bb6dd8>"
      ]
     },
     "metadata": {
      "needs_background": "light"
     },
     "output_type": "display_data"
    }
   ],
   "source": [
    "#histogram counts\n",
    "fig1 = plt.figure(1)\n",
    "plt.hist(counts, color = 'blue', edgecolor = 'black',\n",
    "         bins = 100)\n",
    "plt.title(\"Histogram of genres frequency\")\n",
    "plt.xlabel(\"Number of saved songs in genre\")\n",
    "plt.ylabel(\"Number of genres\")\n",
    "\n",
    "plt.show()"
   ]
  },
  {
   "cell_type": "code",
   "execution_count": 76,
   "metadata": {},
   "outputs": [
    {
     "data": {
      "image/png": "[encoded data removed]",
      "text/plain": [
       "<matplotlib.figure.Figure at 0x7fb688dee6d8>"
      ]
     },
     "metadata": {
      "needs_background": "light"
     },
     "output_type": "display_data"
    }
   ],
   "source": [
    "#histogram counts\n",
    "fig1 = plt.figure(1)\n",
    "plt.hist(percents, color = 'blue', edgecolor = 'black',\n",
    "         bins = 100)\n",
    "plt.title(\"Histogram of genres frequency, total songs:\" + str(num_songs))\n",
    "plt.xlabel(\"Percent of saved songs in genre\")\n",
    "plt.ylabel(\"Number of Genres\")\n",
    "\n",
    "#show higher frequency\n",
    "cut = True\n",
    "if cut:\n",
    "    plt.ylim((0,50))\n",
    "\n",
    "plt.show()"
   ]
  },
  {
   "cell_type": "markdown",
   "metadata": {},
   "source": [
    "Now use a kernal density estimation:\n",
    "https://towardsdatascience.com/histograms-and-density-plots-in-python-f6bda88f5ac0"
   ]
  },
  {
   "cell_type": "code",
   "execution_count": null,
   "metadata": {},
   "outputs": [],
   "source": []
  }
 ],
 "metadata": {
  "kernelspec": {
   "display_name": "Python 3",
   "language": "python",
   "name": "python3"
  },
  "language_info": {
   "codemirror_mode": {
    "name": "ipython",
    "version": 3
   },
   "file_extension": ".py",
   "mimetype": "text/x-python",
   "name": "python",
   "nbconvert_exporter": "python",
   "pygments_lexer": "ipython3",
   "version": "3.6.9"
  }
 },
 "nbformat": 4,
 "nbformat_minor": 2
}
